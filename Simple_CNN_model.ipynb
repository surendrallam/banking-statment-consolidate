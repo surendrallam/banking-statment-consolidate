{
  "nbformat": 4,
  "nbformat_minor": 0,
  "metadata": {
    "colab": {
      "provenance": [],
      "collapsed_sections": [],
      "authorship_tag": "ABX9TyOM/mgawTMpuH/s7+QOdDDL",
      "include_colab_link": true
    },
    "kernelspec": {
      "name": "python3",
      "display_name": "Python 3"
    },
    "language_info": {
      "name": "python"
    }
  },
  "cells": [
    {
      "cell_type": "markdown",
      "metadata": {
        "id": "view-in-github",
        "colab_type": "text"
      },
      "source": [
        "<a href=\"https://colab.research.google.com/github/surendrallam/consolidate-banking-statment/blob/main/Simple_CNN_model.ipynb\" target=\"_parent\"><img src=\"https://colab.research.google.com/assets/colab-badge.svg\" alt=\"Open In Colab\"/></a>"
      ]
    },
    {
      "cell_type": "markdown",
      "source": [
        "Importing libraries"
      ],
      "metadata": {
        "id": "GrgwGGldrnqw"
      }
    },
    {
      "cell_type": "code",
      "source": [
        "%tensorflow_version 2.x\n",
        "import sys, time\n",
        "sys.path[3] = '/usr/lib/python36.zip'\n",
        "sys.path[4] = '/usr/lib/python3.6'\n",
        "sys.path[5] = '/usr/lib/python3.6/lib-dynload'\n",
        "sys.path[6] = '/usr/local/lib/python3.6/dist-packages'\n",
        "sys.path[8] = '/usr/local/lib/python3.6/dist-packages/IPython/extensions'\n",
        "!pip install tensorflow==2.4.1\n",
        "!pip install keras==2.4.0\n",
        "from IPython.display import clear_output\n",
        "\n",
        "time.sleep(3)\n",
        "clear_output()\n",
        "time.sleep(1)\n",
        "\n",
        "# Restart the process to effect the changes\n",
        "import os\n",
        "os.kill(os.getpid(), 9) #(This automatically restarts the runtime so the changes take effect)"
      ],
      "metadata": {
        "id": "26wEW37hT9MJ"
      },
      "execution_count": null,
      "outputs": []
    },
    {
      "cell_type": "code",
      "execution_count": 25,
      "metadata": {
        "id": "C9B2TsiqrEM-"
      },
      "outputs": [],
      "source": [
        "import keras\n",
        "from keras.datasets import mnist\n",
        "from keras.models import Sequential\n",
        "from keras.layers import Dense, Dropout, Flatten\n",
        "from keras.layers import Conv2D, MaxPooling2D, LeakyReLU, GlobalAveragePooling2D\n",
        "import numpy as np"
      ]
    },
    {
      "cell_type": "code",
      "source": [
        "import tensorflow as tf\n",
        "from tensorflow.python.framework.convert_to_constants import convert_variables_to_constants_v2"
      ],
      "metadata": {
        "id": "A9bQW5ifth9p"
      },
      "execution_count": 26,
      "outputs": []
    },
    {
      "cell_type": "markdown",
      "source": [],
      "metadata": {
        "id": "Kv8AWmkvuiqI"
      }
    },
    {
      "cell_type": "code",
      "source": [
        "print(\"Tensorflow\",tf.__version__) #(This is just to check that everything went right)\n",
        "print(\"Keras\",keras.__version__)"
      ],
      "metadata": {
        "colab": {
          "base_uri": "https://localhost:8080/"
        },
        "id": "_4CV14ILvm-5",
        "outputId": "8c73d72a-5e9e-4be2-8a1e-3fade2962e6c"
      },
      "execution_count": 27,
      "outputs": [
        {
          "output_type": "stream",
          "name": "stdout",
          "text": [
            "Tensorflow 2.4.1\n",
            "Keras 2.4.0\n"
          ]
        }
      ]
    },
    {
      "cell_type": "code",
      "source": [
        "batch_size = 128\n",
        "num_classes = 10\n",
        "epochs = 12\n",
        "\n",
        "# input image dimensions\n",
        "img_rows, img_cols = 28, 28 \n",
        "\n",
        "# the data, split between train and test sets\n",
        "(x_train, y_train), (x_test, y_test) = mnist.load_data()\n",
        "\n",
        "x_train = x_train.reshape(60000,28,28,1) # (60000,28,28,1) 224,224\n",
        "x_test = x_test.reshape(10000,28,28,1)   # (10000,28,28,1)\n",
        "\n",
        "print('x_train shape:', x_train.shape)\n",
        "print('x_test shape:', x_test.shape)\n",
        "print(x_train.shape[0], 'train samples')\n",
        "print(x_test.shape[0], 'test samples')\n",
        "\n",
        "# convert class vectors to binary class matrices\n",
        "y_train = keras.utils.to_categorical(y_train, num_classes)\n",
        "y_test = keras.utils.to_categorical(y_test, num_classes)"
      ],
      "metadata": {
        "colab": {
          "base_uri": "https://localhost:8080/"
        },
        "id": "h9-MMX9Nr3se",
        "outputId": "133bac26-b2d5-48f9-ee1b-a28feeb33a3c"
      },
      "execution_count": 28,
      "outputs": [
        {
          "output_type": "stream",
          "name": "stdout",
          "text": [
            "x_train shape: (60000, 28, 28, 1)\n",
            "x_test shape: (10000, 28, 28, 1)\n",
            "60000 train samples\n",
            "10000 test samples\n"
          ]
        }
      ]
    },
    {
      "cell_type": "markdown",
      "source": [
        "Layer constructing"
      ],
      "metadata": {
        "id": "bGfXxp3Xuj4G"
      }
    },
    {
      "cell_type": "code",
      "source": [
        "model = Sequential()\n",
        "\n",
        "# Default \n",
        "# model.add(Conv2D(32, kernel_size=(3, 3), activation='relu', input_shape=(28,28,1)))\n",
        "# model.add(Conv2D(64, (3, 3), activation='relu'))\n",
        "# model.add(MaxPooling2D(pool_size=(2, 2)))\n",
        "# model.add(Dropout(0.25))\n",
        "# model.add(Flatten())\n",
        "# model.add(Dense(128, activation='relu'))\n",
        "# model.add(Dropout(0.5))\n",
        "# model.add(Dense(num_classes, activation='softmax'))\n",
        "\n",
        "# MRD\n",
        "model.add(Conv2D(32, kernel_size=(3, 3),  strides=(2, 2), activation='relu', input_shape=(28,28,1)))\n",
        "model.add(MaxPooling2D(pool_size=(2, 2)))\n",
        "model.add(Conv2D(64, (3, 3), activation='relu'))\n",
        "model.add(GlobalAveragePooling2D(name='avg_pool'))\n",
        "model.add(Dropout(0.4))\n",
        "model.add(Dense(num_classes, activation='softmax'))\n",
        "\n",
        "model.summary()"
      ],
      "metadata": {
        "colab": {
          "base_uri": "https://localhost:8080/"
        },
        "id": "RWlYipj5r5Te",
        "outputId": "7575861f-145f-4265-d7b6-b2eff35e883f"
      },
      "execution_count": 31,
      "outputs": [
        {
          "output_type": "stream",
          "name": "stdout",
          "text": [
            "Model: \"sequential_6\"\n",
            "_________________________________________________________________\n",
            "Layer (type)                 Output Shape              Param #   \n",
            "=================================================================\n",
            "conv2d_11 (Conv2D)           (None, 13, 13, 32)        320       \n",
            "_________________________________________________________________\n",
            "max_pooling2d_5 (MaxPooling2 (None, 6, 6, 32)          0         \n",
            "_________________________________________________________________\n",
            "conv2d_12 (Conv2D)           (None, 4, 4, 64)          18496     \n",
            "_________________________________________________________________\n",
            "avg_pool (GlobalAveragePooli (None, 64)                0         \n",
            "_________________________________________________________________\n",
            "dropout_5 (Dropout)          (None, 64)                0         \n",
            "_________________________________________________________________\n",
            "dense_5 (Dense)              (None, 10)                650       \n",
            "=================================================================\n",
            "Total params: 19,466\n",
            "Trainable params: 19,466\n",
            "Non-trainable params: 0\n",
            "_________________________________________________________________\n"
          ]
        }
      ]
    },
    {
      "cell_type": "markdown",
      "source": [
        "Model Training"
      ],
      "metadata": {
        "id": "MNpYuoh1ysZP"
      }
    },
    {
      "cell_type": "code",
      "source": [
        "model.compile(loss=keras.losses.categorical_crossentropy,\n",
        "              optimizer=keras.optimizers.Adadelta(),\n",
        "              metrics=['accuracy'])\n",
        "\n",
        "EPOCHS = 10\n",
        "BATCH_SIZE = 32\n",
        "STEPS_PER_EPOCH = 10\n",
        "VALIDATION_STEPS = 32\n",
        " \n",
        "\n",
        "model.fit(x_train, y_train,\n",
        "          batch_size=BATCH_SIZE,\n",
        "          epochs=EPOCHS,\n",
        "          steps_per_epoch=STEPS_PER_EPOCH,\n",
        "          verbose=1,\n",
        "          validation_data=(x_test, y_test),\n",
        "          validation_steps=VALIDATION_STEPS)\n",
        "\n",
        "score = model.evaluate(x_test, y_test, verbose=2)\n",
        "\n",
        "print('Test loss:', score[0])\n",
        "print('Test accuracy:', score[1])\n",
        "print(score[2])"
      ],
      "metadata": {
        "id": "MBgAQnJwr7tn"
      },
      "execution_count": null,
      "outputs": []
    },
    {
      "cell_type": "markdown",
      "source": [
        "Saving the model"
      ],
      "metadata": {
        "id": "_ohOX0qxtBYY"
      }
    },
    {
      "cell_type": "code",
      "source": [
        "MODEL_FILE = 'mobilenet/filename.model'\n",
        "\n",
        "model.save(MODEL_FILE)\n",
        "backup_model = model\n",
        "# model.summary()\n",
        "\n",
        "full_model = tf.function(lambda x: model(x))\n",
        "full_model = full_model.get_concrete_function(x=tf.TensorSpec(model.inputs[0].shape, model.inputs[0].dtype))\n",
        " \n",
        "\n",
        "# Get frozen ConcreteFunction\n",
        "frozen_func = convert_variables_to_constants_v2(full_model)\n",
        "frozen_func.graph.as_graph_def()\n",
        " \n",
        "layers = [op.name for op in frozen_func.graph.get_operations()]\n",
        "print(\"-\" * 50)\n",
        "\n",
        " \n",
        "tf.io.write_graph(graph_or_graph_def=frozen_func.graph,\n",
        " logdir=\"mobilenet/frozen_models\",\n",
        " name=\"simple_mrd_cnn_ker_2.4.0.pb\",\n",
        " as_text=False)\n",
        " \n",
        "tf.saved_model.save(model, \"mobilenet/simple_model\")\n",
        "print(\"Done\")"
      ],
      "metadata": {
        "colab": {
          "base_uri": "https://localhost:8080/"
        },
        "id": "9rBWTX7ctDjH",
        "outputId": "e6a20bf8-cd93-4bb2-c09d-19fd943f02c3"
      },
      "execution_count": 9,
      "outputs": [
        {
          "output_type": "stream",
          "name": "stdout",
          "text": [
            "--------------------------------------------------\n",
            "Done\n"
          ]
        }
      ]
    },
    {
      "cell_type": "markdown",
      "source": [
        "### Reference\n",
        "* https://towardsdatascience.com/build-your-own-convolution-neural-network-in-5-mins-4217c2cf964f"
      ],
      "metadata": {
        "id": "gvLKo1SjrKHI"
      }
    }
  ]
}